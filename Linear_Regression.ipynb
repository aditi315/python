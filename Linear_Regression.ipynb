{
 "cells": [
  {
   "cell_type": "code",
   "execution_count": 1,
   "metadata": {},
   "outputs": [],
   "source": [
    "import numpy as np\n",
    "import matplotlib.pyplot as plt"
   ]
  },
  {
   "cell_type": "code",
   "execution_count": 2,
   "metadata": {},
   "outputs": [],
   "source": [
    "# Input data\n",
    "\n",
    "x=np.array([64.70,38.11,44.50,40.59,41.72,51.08,32.50,53.42,61.53,47.47,59.81,55.14,52.21,39.29,48.10,52.55,45.41,54.35])\n",
    "\n",
    "y=np.array([93.57,80.16,65.10,65.56,65.28,73.43,31.70,68.77,62.56,71.54,87.23,78.21,79.64,59.17,75.33,71.30,55.16,82.47])"
   ]
  },
  {
   "cell_type": "code",
   "execution_count": 3,
   "metadata": {},
   "outputs": [
    {
     "data": {
      "image/png": "[encoded data removed]",
      "text/plain": [
       "<Figure size 432x288 with 1 Axes>"
      ]
     },
     "metadata": {
      "needs_background": "light"
     },
     "output_type": "display_data"
    }
   ],
   "source": [
    "plt.scatter(x,y)\n",
    "plt.show()"
   ]
  },
  {
   "cell_type": "code",
   "execution_count": 4,
   "metadata": {},
   "outputs": [
    {
     "name": "stdout",
     "output_type": "stream",
     "text": [
      "1.4225688252639146 0.02917447437500316\n"
     ]
    }
   ],
   "source": [
    "# The model\n",
    "\n",
    "m=0\n",
    "c=0\n",
    "\n",
    "Lrate=0.0001 # learning rate\n",
    "itr=10 # number of iteration to perform gradient descent\n",
    "n=float(len(x)) #number of element\n",
    "\n",
    "# Gradient Descent\n",
    "for i in range(itr):\n",
    "    Yp= m*x + c # predicted value of y\n",
    "    \n",
    "    Dm = (-2/n) * sum(x*(y-Yp)) # Derivative with respect of m\n",
    "    Dc = (-2/n) * sum(y-Yp)    # Derivative with respect of c\n",
    "    \n",
    "    m = m-Lrate*Dm # updated m\n",
    "    c = c-Lrate*Dc # updated c\n",
    "    \n",
    "print(m,c)"
   ]
  },
  {
   "cell_type": "code",
   "execution_count": 6,
   "metadata": {},
   "outputs": [
    {
     "data": {
      "image/png": "[encoded data removed]",
      "text/plain": [
       "<Figure size 432x288 with 1 Axes>"
      ]
     },
     "metadata": {
      "needs_background": "light"
     },
     "output_type": "display_data"
    }
   ],
   "source": [
    "# Predictions\n",
    "Yp = m*x+c\n",
    "plt.scatter(x,y)\n",
    "plt.xlabel('X data')\n",
    "plt.ylabel('Y data')\n",
    "plt.plot([min(x),max(x)],[min(Yp),max(Yp)],color='red') # predicted\n",
    "plt.show()"
   ]
  },
  {
   "cell_type": "code",
   "execution_count": null,
   "metadata": {},
   "outputs": [],
   "source": []
  }
 ],
 "metadata": {
  "kernelspec": {
   "display_name": "Python 3",
   "language": "python",
   "name": "python3"
  },
  "language_info": {
   "codemirror_mode": {
    "name": "ipython",
    "version": 3
   },
   "file_extension": ".py",
   "mimetype": "text/x-python",
   "name": "python",
   "nbconvert_exporter": "python",
   "pygments_lexer": "ipython3",
   "version": "3.7.6"
  }
 },
 "nbformat": 4,
 "nbformat_minor": 4
}
